{
  "nbformat": 4,
  "nbformat_minor": 0,
  "metadata": {
    "colab": {
      "provenance": []
    },
    "kernelspec": {
      "name": "python3",
      "display_name": "Python 3"
    },
    "language_info": {
      "name": "python"
    }
  },
  "cells": [
    {
      "cell_type": "code",
      "source": [
        "import scipy\n",
        "import numpy as np"
      ],
      "metadata": {
        "id": "ItNtsvFV15OC"
      },
      "execution_count": 1,
      "outputs": []
    },
    {
      "cell_type": "code",
      "source": [
        "from scipy.stats import binom"
      ],
      "metadata": {
        "id": "kEXUCswE2N6x"
      },
      "execution_count": 3,
      "outputs": []
    },
    {
      "cell_type": "code",
      "execution_count": 9,
      "metadata": {
        "id": "aH-nPNt60BiS",
        "colab": {
          "base_uri": "https://localhost:8080/"
        },
        "collapsed": true,
        "outputId": "305bd2f9-15f2-4786-a35e-54eda1f0c41f"
      },
      "outputs": [
        {
          "output_type": "stream",
          "name": "stdout",
          "text": [
            "/bin/bash: -c: line 1: syntax error near unexpected token `http://www.stat.yale.edu/Courses/1997-98/101/binpdf.gif'\n",
            "/bin/bash: -c: line 1: `[](http://www.stat.yale.edu/Courses/1997-98/101/binpdf.gif)'\n"
          ]
        }
      ],
      "source": [
        "![](http://www.stat.yale.edu/Courses/1997-98/101/binpdf.gif)"
      ]
    },
    {
      "cell_type": "markdown",
      "source": [
        "A survey found that 65% of all financial consumers were very satisfied with their primary financial institution. Suppose that 25% financial consumers are sampled and if survey result still holds true today, what is probability that exactly 19 are very satsfied thier primary financial institution?    "
      ],
      "metadata": {
        "id": "MYOraHs93wqD"
      }
    },
    {
      "cell_type": "code",
      "source": [
        "print(binom.pmf(k = 19, n = 25, p = 0.65))"
      ],
      "metadata": {
        "colab": {
          "base_uri": "https://localhost:8080/"
        },
        "id": "pwWYyDja2mx8",
        "outputId": "ef12ce74-4618-47ce-96d1-e5dc87161d5c"
      },
      "execution_count": 10,
      "outputs": [
        {
          "output_type": "stream",
          "name": "stdout",
          "text": [
            "0.090777998593228\n"
          ]
        }
      ]
    },
    {
      "cell_type": "markdown",
      "source": [
        "Accordng to the U.S Bureau. approximately 6% of all workers in Jackson. Mississippi are unemployed in conducting a random telephone survey in a Jackson What s the probablty of getting two or fewer unemployed workers in a sample of 20?    "
      ],
      "metadata": {
        "id": "PohNqyb478aO"
      }
    },
    {
      "cell_type": "code",
      "source": [
        "binom.cdf(2, 20, 0.06)"
      ],
      "metadata": {
        "colab": {
          "base_uri": "https://localhost:8080/"
        },
        "id": "eGMiA-hm7Zil",
        "outputId": "6f3459bf-2a47-4632-9fb8-a8d5e40ddc85"
      },
      "execution_count": 11,
      "outputs": [
        {
          "output_type": "execute_result",
          "data": {
            "text/plain": [
              "np.float64(0.8850275957378549)"
            ]
          },
          "metadata": {},
          "execution_count": 11
        }
      ]
    },
    {
      "cell_type": "markdown",
      "source": [
        "Solve the binomial probability for n = 20, p = 40, and x = 10"
      ],
      "metadata": {
        "id": "37pKzujh-dw4"
      }
    },
    {
      "cell_type": "code",
      "source": [
        "print(binom.pmf(k = 10, n = 20, p = 0.4))"
      ],
      "metadata": {
        "colab": {
          "base_uri": "https://localhost:8080/"
        },
        "id": "sgfRJNPo-DJr",
        "outputId": "3823164b-751a-4d14-b927-2547904784a0"
      },
      "execution_count": 12,
      "outputs": [
        {
          "output_type": "stream",
          "name": "stdout",
          "text": [
            "0.11714155053639005\n"
          ]
        }
      ]
    },
    {
      "cell_type": "markdown",
      "source": [
        "Poisson Distribution"
      ],
      "metadata": {
        "id": "plQdtMf5Aalt"
      }
    },
    {
      "cell_type": "code",
      "source": [
        "from scipy.stats import poisson"
      ],
      "metadata": {
        "id": "MuryjE0UAlq8"
      },
      "execution_count": 13,
      "outputs": []
    },
    {
      "cell_type": "code",
      "source": [
        "poisson.pmf(3, 2) # 3 = x, Mean = 2"
      ],
      "metadata": {
        "colab": {
          "base_uri": "https://localhost:8080/"
        },
        "id": "TZA7L_hyBAsL",
        "outputId": "46b65775-d733-4fee-f288-edb89a7dbb5f"
      },
      "execution_count": 15,
      "outputs": [
        {
          "output_type": "execute_result",
          "data": {
            "text/plain": [
              "np.float64(0.18044704431548356)"
            ]
          },
          "metadata": {},
          "execution_count": 15
        }
      ]
    },
    {
      "cell_type": "markdown",
      "source": [
        "Suppose bank consumers arrive randomly on weekday afternoons at an average of 3.2 customers every 4 minutes. What is the probability of exactly 5 customers arriving in a 4-minute interval on a weekday afternoon?"
      ],
      "metadata": {
        "id": "8-P6RSN9CWSr"
      }
    },
    {
      "cell_type": "code",
      "source": [
        "poisson.pmf(5, 3.2)"
      ],
      "metadata": {
        "colab": {
          "base_uri": "https://localhost:8080/"
        },
        "id": "bJ9EofBYBZhb",
        "outputId": "2dd0bde0-63fc-45f8-822e-eaee1c45559e"
      },
      "execution_count": 16,
      "outputs": [
        {
          "output_type": "execute_result",
          "data": {
            "text/plain": [
              "np.float64(0.11397938346351824)"
            ]
          },
          "metadata": {},
          "execution_count": 16
        }
      ]
    },
    {
      "cell_type": "markdown",
      "source": [
        "Bank consumers arrive randomly on weekday afternoons at an average of 3.2 customers every 4 minutes What is the probability of having more than 7 constomers in a 4-minute interval on a weekday afternoon?      "
      ],
      "metadata": {
        "id": "jmQHNwyTHiEc"
      }
    },
    {
      "cell_type": "code",
      "source": [
        "prob = poisson.cdf(7, 3.2)"
      ],
      "metadata": {
        "id": "k5s5huVhBigo"
      },
      "execution_count": 17,
      "outputs": []
    },
    {
      "cell_type": "code",
      "source": [
        "prob"
      ],
      "metadata": {
        "colab": {
          "base_uri": "https://localhost:8080/"
        },
        "id": "2mSlWZtQLRVK",
        "outputId": "28814e8e-5322-4cd4-a867-fecd761dee1c"
      },
      "execution_count": 18,
      "outputs": [
        {
          "output_type": "execute_result",
          "data": {
            "text/plain": [
              "np.float64(0.9831701582510425)"
            ]
          },
          "metadata": {},
          "execution_count": 18
        }
      ]
    },
    {
      "cell_type": "code",
      "source": [
        "prob_more_than_7 = 1 - prob\n",
        "prob_more_than_7"
      ],
      "metadata": {
        "colab": {
          "base_uri": "https://localhost:8080/"
        },
        "id": "Td6Lg6awLd_E",
        "outputId": "27ad9bb8-414c-4eb0-89f5-2bde413f12b2"
      },
      "execution_count": 19,
      "outputs": [
        {
          "output_type": "execute_result",
          "data": {
            "text/plain": [
              "np.float64(0.01682984174895752)"
            ]
          },
          "metadata": {},
          "execution_count": 19
        }
      ]
    },
    {
      "cell_type": "markdown",
      "source": [
        "A bank has an average random arrival rate of 3.2 consumers ever 4 minutes what is the probablity of getting exactly 10 customers during an 8-minute interval?    "
      ],
      "metadata": {
        "id": "zWSIelICM0LJ"
      }
    },
    {
      "cell_type": "code",
      "source": [
        "poisson.pmf(10, 6.4)"
      ],
      "metadata": {
        "colab": {
          "base_uri": "https://localhost:8080/"
        },
        "id": "ka6fszFnLl3q",
        "outputId": "378a65d7-530e-4e4b-e8eb-715e0f6713a3"
      },
      "execution_count": 20,
      "outputs": [
        {
          "output_type": "execute_result",
          "data": {
            "text/plain": [
              "np.float64(0.052790043854115495)"
            ]
          },
          "metadata": {},
          "execution_count": 20
        }
      ]
    },
    {
      "cell_type": "markdown",
      "source": [
        "Uniform Distribution"
      ],
      "metadata": {
        "id": "T2KKhfg0Q7Oh"
      }
    },
    {
      "cell_type": "markdown",
      "source": [
        "Suppose the amount of time it takes to assemble a plastic module ranges from 27 to 39 seconds and that assembly times are uniformly distributed Describe the distribution What is the probability that a gven assembly will take between 30 and 35 seconds?"
      ],
      "metadata": {
        "id": "HNBPvsNRRG5r"
      }
    },
    {
      "cell_type": "code",
      "source": [
        "U = np.arange(27, 40, 1)\n",
        "U"
      ],
      "metadata": {
        "colab": {
          "base_uri": "https://localhost:8080/"
        },
        "id": "-fZM6T-JP_AG",
        "outputId": "93905abb-84af-4e2e-bf12-939aa5621b24"
      },
      "execution_count": 21,
      "outputs": [
        {
          "output_type": "execute_result",
          "data": {
            "text/plain": [
              "array([27, 28, 29, 30, 31, 32, 33, 34, 35, 36, 37, 38, 39])"
            ]
          },
          "metadata": {},
          "execution_count": 21
        }
      ]
    },
    {
      "cell_type": "code",
      "source": [],
      "metadata": {
        "id": "Uml2ZVhFZdct"
      },
      "execution_count": null,
      "outputs": []
    },
    {
      "cell_type": "code",
      "source": [
        "from scipy.stats import uniform\n",
        "uniform.mean(loc = 27, scale = 12)"
      ],
      "metadata": {
        "colab": {
          "base_uri": "https://localhost:8080/"
        },
        "id": "Mh4TQNCyaiAW",
        "outputId": "b2f2c258-81eb-4ff5-c738-7bf2788582f9"
      },
      "execution_count": 23,
      "outputs": [
        {
          "output_type": "execute_result",
          "data": {
            "text/plain": [
              "np.float64(33.0)"
            ]
          },
          "metadata": {},
          "execution_count": 23
        }
      ]
    },
    {
      "cell_type": "code",
      "source": [
        "uniform.cdf(np.arange(30, 36, 1), loc = 27, scale = 12)"
      ],
      "metadata": {
        "colab": {
          "base_uri": "https://localhost:8080/"
        },
        "id": "a7Ja-OgwbPnP",
        "outputId": "254731a0-e988-443e-9ac9-d5bcd8393aae"
      },
      "execution_count": 24,
      "outputs": [
        {
          "output_type": "execute_result",
          "data": {
            "text/plain": [
              "array([0.25      , 0.33333333, 0.41666667, 0.5       , 0.58333333,\n",
              "       0.66666667])"
            ]
          },
          "metadata": {},
          "execution_count": 24
        }
      ]
    },
    {
      "cell_type": "code",
      "source": [
        "prob = 0.66666667 - 0.25\n",
        "prob"
      ],
      "metadata": {
        "colab": {
          "base_uri": "https://localhost:8080/"
        },
        "id": "M1PmrLFudB2T",
        "outputId": "67e295e0-5ecf-40fe-c11d-3218a01d8e23"
      },
      "execution_count": 25,
      "outputs": [
        {
          "output_type": "execute_result",
          "data": {
            "text/plain": [
              "0.41666667"
            ]
          },
          "metadata": {},
          "execution_count": 25
        }
      ]
    },
    {
      "cell_type": "markdown",
      "source": [
        "Accordng to the National Assocaton of Insurance Commissioners, the average annual cost for automobile insurance in the United States in recent year was $691 Suppose automobile insurance costs are uniformly distributed in the United States with a range of from $200 to 1, 182. What is the standard deviaton of this uniform distribution?      "
      ],
      "metadata": {
        "id": "K8QhPTb6fU0_"
      }
    },
    {
      "cell_type": "code",
      "source": [
        "uniform.mean(loc = 200, scale = 982)"
      ],
      "metadata": {
        "colab": {
          "base_uri": "https://localhost:8080/"
        },
        "id": "g40RDJIBerxm",
        "outputId": "7432f73d-213c-468c-ba34-340abb4b34b2"
      },
      "execution_count": 26,
      "outputs": [
        {
          "output_type": "execute_result",
          "data": {
            "text/plain": [
              "np.float64(691.0)"
            ]
          },
          "metadata": {},
          "execution_count": 26
        }
      ]
    },
    {
      "cell_type": "code",
      "source": [
        "uniform.std(loc = 200, scale = 982)"
      ],
      "metadata": {
        "colab": {
          "base_uri": "https://localhost:8080/"
        },
        "id": "FYt6zDROkI2z",
        "outputId": "1b5fdb8a-aa13-46c9-c14f-ff57052310c8"
      },
      "execution_count": 27,
      "outputs": [
        {
          "output_type": "execute_result",
          "data": {
            "text/plain": [
              "np.float64(283.4789821721062)"
            ]
          },
          "metadata": {},
          "execution_count": 27
        }
      ]
    },
    {
      "cell_type": "code",
      "source": [
        "from scipy.stats import norm"
      ],
      "metadata": {
        "id": "jbBk1hmnkoKc"
      },
      "execution_count": 28,
      "outputs": []
    },
    {
      "cell_type": "code",
      "source": [
        "val, m, s = 68, 65.5, 2.5"
      ],
      "metadata": {
        "id": "EZb6yxpKmSvY"
      },
      "execution_count": 29,
      "outputs": []
    },
    {
      "cell_type": "code",
      "source": [
        "print(norm.cdf(val, m, s))"
      ],
      "metadata": {
        "colab": {
          "base_uri": "https://localhost:8080/"
        },
        "id": "Lfv91g99m0e6",
        "outputId": "2c20a7a6-62b7-4122-afac-9564528b5eb9"
      },
      "execution_count": 30,
      "outputs": [
        {
          "output_type": "stream",
          "name": "stdout",
          "text": [
            "0.8413447460685429\n"
          ]
        }
      ]
    },
    {
      "cell_type": "markdown",
      "source": [
        "cdf(val1<x<val2)"
      ],
      "metadata": {
        "id": "T3Nh69Z3nj4z"
      }
    },
    {
      "cell_type": "code",
      "source": [
        "print(norm.cdf(val, m, s) - (norm.cdf(63, m, s)))"
      ],
      "metadata": {
        "colab": {
          "base_uri": "https://localhost:8080/"
        },
        "id": "Q79KTWGBm_c8",
        "outputId": "bde906a2-db74-46fb-a064-00f537db771a"
      },
      "execution_count": 31,
      "outputs": [
        {
          "output_type": "stream",
          "name": "stdout",
          "text": [
            "0.6826894921370859\n"
          ]
        }
      ]
    },
    {
      "cell_type": "markdown",
      "source": [
        "What is the probability of obtaining a score greater than 700 on a GMAT test that has a mean of 494 and standard deviation of 100? assume GMAT scores are normally distributed  "
      ],
      "metadata": {
        "id": "7HZL45cQodMh"
      }
    },
    {
      "cell_type": "markdown",
      "source": [
        "P(x > 700 | m = 494 and s = 100) = ?"
      ],
      "metadata": {
        "id": "wr1ey80CqHDy"
      }
    },
    {
      "cell_type": "code",
      "source": [
        "print(1 - norm.cdf(700, 494, 100))"
      ],
      "metadata": {
        "colab": {
          "base_uri": "https://localhost:8080/"
        },
        "id": "yDKej6y9oJAv",
        "outputId": "f0a15211-171a-4cc7-d372-4492690d875f"
      },
      "execution_count": 32,
      "outputs": [
        {
          "output_type": "stream",
          "name": "stdout",
          "text": [
            "0.019699270409376912\n"
          ]
        }
      ]
    },
    {
      "cell_type": "markdown",
      "source": [
        "For the same GMAT examination. what is the probability of randomly drawing a sore that is 550 or less?  "
      ],
      "metadata": {
        "id": "jX_qFGxgrOXD"
      }
    },
    {
      "cell_type": "code",
      "source": [
        "print(norm.cdf(550, 494, 100))"
      ],
      "metadata": {
        "colab": {
          "base_uri": "https://localhost:8080/"
        },
        "id": "cBRodi2AoOAG",
        "outputId": "ce281557-300c-49e6-d312-5af43e789533"
      },
      "execution_count": 33,
      "outputs": [
        {
          "output_type": "stream",
          "name": "stdout",
          "text": [
            "0.712260281150973\n"
          ]
        }
      ]
    },
    {
      "cell_type": "markdown",
      "source": [
        "What is the probability of randomly obtaining a score between 300 and 600 on the GMAT exam?"
      ],
      "metadata": {
        "id": "ETs-Vi_UtLZx"
      }
    },
    {
      "cell_type": "code",
      "source": [
        "print(norm.cdf(600, 494, 100) - norm.cdf(300, 494, 100))"
      ],
      "metadata": {
        "colab": {
          "base_uri": "https://localhost:8080/"
        },
        "id": "DMSaA-aLoOIM",
        "outputId": "30879790-3a52-40c2-fba4-3f5d1a5f0bd2"
      },
      "execution_count": 34,
      "outputs": [
        {
          "output_type": "stream",
          "name": "stdout",
          "text": [
            "0.8292378553956377\n"
          ]
        }
      ]
    },
    {
      "cell_type": "markdown",
      "source": [
        "What is the probabilty of getting a score between 350 and 450 on the same GMAT exam?"
      ],
      "metadata": {
        "id": "kfN5FAQ2vFgC"
      }
    },
    {
      "cell_type": "code",
      "source": [
        "print(norm.cdf(450, 494, 100) - norm.cdf(350, 494, 100))"
      ],
      "metadata": {
        "colab": {
          "base_uri": "https://localhost:8080/"
        },
        "id": "rqqFpmWzu3c4",
        "outputId": "2b8091ce-7d4e-49be-96b8-93cfe3f1160f"
      },
      "execution_count": 35,
      "outputs": [
        {
          "output_type": "stream",
          "name": "stdout",
          "text": [
            "0.2550348541262666\n"
          ]
        }
      ]
    },
    {
      "cell_type": "code",
      "source": [
        "norm.ppf(0.95)"
      ],
      "metadata": {
        "colab": {
          "base_uri": "https://localhost:8080/"
        },
        "id": "us4k7c2oxBg_",
        "outputId": "15da532d-51d1-4e05-c9eb-a23e28340b40"
      },
      "execution_count": 36,
      "outputs": [
        {
          "output_type": "execute_result",
          "data": {
            "text/plain": [
              "np.float64(1.6448536269514722)"
            ]
          },
          "metadata": {},
          "execution_count": 36
        }
      ]
    },
    {
      "cell_type": "code",
      "source": [
        "norm.ppf(1 - .6772)"
      ],
      "metadata": {
        "colab": {
          "base_uri": "https://localhost:8080/"
        },
        "id": "1TVdqpwVxuWh",
        "outputId": "5153cd5d-10e9-4362-a588-f18e3adb3e69"
      },
      "execution_count": 38,
      "outputs": [
        {
          "output_type": "execute_result",
          "data": {
            "text/plain": [
              "np.float64(-0.45988328292440145)"
            ]
          },
          "metadata": {},
          "execution_count": 38
        }
      ]
    },
    {
      "cell_type": "markdown",
      "source": [
        "Hypergeometric Distribution example"
      ],
      "metadata": {
        "id": "WCwYBcsZy_3L"
      }
    },
    {
      "cell_type": "markdown",
      "source": [
        "Suppose 18 major computer companies operate in the united states and that 12 are located in California's Silicon Valley if three computer companies are selected randomly from the entire list. what is the probability that one more or selected companies are located in the Silcon Valley.   "
      ],
      "metadata": {
        "id": "9oBItxeZzPB5"
      }
    },
    {
      "cell_type": "code",
      "source": [
        "from scipy.stats import hypergeom\n",
        "pval = hypergeom.sf(0, 18, 3, 12) # hypergeom.sf(x-1, N, n, A), sf = 1 - cdf"
      ],
      "metadata": {
        "id": "iMSzKdTkyDsm"
      },
      "execution_count": 40,
      "outputs": []
    },
    {
      "cell_type": "code",
      "source": [
        "pval"
      ],
      "metadata": {
        "colab": {
          "base_uri": "https://localhost:8080/"
        },
        "id": "ADe0iHc12Iok",
        "outputId": "e61b5b9a-e991-4230-b605-ac5ae67cb4af"
      },
      "execution_count": 41,
      "outputs": [
        {
          "output_type": "execute_result",
          "data": {
            "text/plain": [
              "np.float64(0.9754901960784313)"
            ]
          },
          "metadata": {},
          "execution_count": 41
        }
      ]
    },
    {
      "cell_type": "markdown",
      "source": [
        "Exponential Distribution Example"
      ],
      "metadata": {
        "id": "2NFYepDz3lOl"
      }
    },
    {
      "cell_type": "markdown",
      "source": [
        "A manufacturing firm has been involved in statistical quantity control for several years As part of the production process, parts are randomly selected and tested From the records of these tests. it has been stabilished that a defected part occurs in a pattern that is Poisson distributed on the average of 1.38 defects every 20 minutes during productions runs. Use this informaton to determine the probability that less than 15 minutes will elapse between any two detects?     "
      ],
      "metadata": {
        "id": "zh7LNZgg3655"
      }
    },
    {
      "cell_type": "code",
      "source": [
        "mul = 1 / 1.38 # for 20 minutes\n",
        "mul"
      ],
      "metadata": {
        "colab": {
          "base_uri": "https://localhost:8080/"
        },
        "id": "Me0l1cY12Tn-",
        "outputId": "b7319973-cbbf-42fd-91b3-c372195ab3db"
      },
      "execution_count": 42,
      "outputs": [
        {
          "output_type": "execute_result",
          "data": {
            "text/plain": [
              "0.7246376811594204"
            ]
          },
          "metadata": {},
          "execution_count": 42
        }
      ]
    },
    {
      "cell_type": "code",
      "source": [
        "from scipy.stats import expon\n",
        "expon.cdf(0.75, 0, (1/1.38)) # 15/20 = 0.75, Loc=0 because y = (x - Loc) / scale, and y= x/scale, I"
      ],
      "metadata": {
        "colab": {
          "base_uri": "https://localhost:8080/"
        },
        "id": "VHEYfmV88jiJ",
        "outputId": "1eca3209-14f8-4162-ba04-bf5fb98b736c"
      },
      "execution_count": 43,
      "outputs": [
        {
          "output_type": "execute_result",
          "data": {
            "text/plain": [
              "np.float64(0.6447736190750485)"
            ]
          },
          "metadata": {},
          "execution_count": 43
        }
      ]
    },
    {
      "cell_type": "code",
      "source": [],
      "metadata": {
        "id": "rfNOaebV_NSu"
      },
      "execution_count": null,
      "outputs": []
    }
  ]
}